{
 "cells": [
  {
   "cell_type": "code",
   "execution_count": 19,
   "metadata": {},
   "outputs": [],
   "source": [
    "using FixedPointNumbers, Colors, ColorVectorSpace, Images, StatsBase\n",
    "using MappedArrays, RoundingIntegers\n",
    "using Gtk.ShortNames, GtkReactive, Graphics\n",
    "using Gtk.GConstants.GtkAlign: GTK_ALIGN_START, GTK_ALIGN_END, GTK_ALIGN_FILL\n",
    "import AxisArrays\n",
    "using AxisArrays: Axis, axisnames, axisvalues\n",
    "\n",
    "import Images: scaleminmax\n",
    "\n"
   ]
  },
  {
   "cell_type": "code",
   "execution_count": 23,
   "metadata": {},
   "outputs": [
    {
     "name": "stdout",
     "output_type": "stream",
     "text": [
      "\u001b[32m\u001b[1m Resolving\u001b[22m\u001b[39m package versions...\n",
      "\u001b[32m\u001b[1m  Updating\u001b[22m\u001b[39m `~/.julia/environments/v1.1/Project.toml`\n",
      " \u001b[90m [be33ccc6]\u001b[39m\u001b[92m + CUDAnative v2.2.0\u001b[39m\n",
      "\u001b[32m\u001b[1m  Updating\u001b[22m\u001b[39m `~/.julia/environments/v1.1/Manifest.toml`\n",
      "\u001b[90m [no changes]\u001b[39m\n"
     ]
    }
   ],
   "source": [
    "import Pkg; Pkg.add(\"CUDAnative\")"
   ]
  },
  {
   "cell_type": "code",
   "execution_count": 20,
   "metadata": {},
   "outputs": [
    {
     "name": "stdout",
     "output_type": "stream",
     "text": [
      "search: \u001b[0m\u001b[1mm\u001b[22m\u001b[0m\u001b[1ma\u001b[22m\u001b[0m\u001b[1mp\u001b[22m \u001b[0m\u001b[1mm\u001b[22m\u001b[0m\u001b[1ma\u001b[22m\u001b[0m\u001b[1mp\u001b[22m! \u001b[0m\u001b[1mm\u001b[22m\u001b[0m\u001b[1ma\u001b[22m\u001b[0m\u001b[1mp\u001b[22mc \u001b[0m\u001b[1mm\u001b[22m\u001b[0m\u001b[1ma\u001b[22m\u001b[0m\u001b[1mp\u001b[22mfoldr \u001b[0m\u001b[1mm\u001b[22m\u001b[0m\u001b[1ma\u001b[22m\u001b[0m\u001b[1mp\u001b[22mfoldl \u001b[0m\u001b[1mm\u001b[22m\u001b[0m\u001b[1ma\u001b[22m\u001b[0m\u001b[1mp\u001b[22mslices \u001b[0m\u001b[1mm\u001b[22m\u001b[0m\u001b[1ma\u001b[22m\u001b[0m\u001b[1mp\u001b[22mreduce \u001b[0m\u001b[1mm\u001b[22m\u001b[0m\u001b[1ma\u001b[22m\u001b[0m\u001b[1mp\u001b[22mwindow \u001b[0m\u001b[1mm\u001b[22m\u001b[0m\u001b[1ma\u001b[22m\u001b[0m\u001b[1mp\u001b[22mwindow!\n",
      "\n"
     ]
    },
    {
     "data": {
      "text/latex": [
       "\\begin{verbatim}\n",
       "map(f, c...) -> collection\n",
       "\\end{verbatim}\n",
       "Transform collection \\texttt{c} by applying \\texttt{f} to each element. For multiple collection arguments, apply \\texttt{f} elementwise.\n",
       "\n",
       "See also: \\href{@ref}{\\texttt{mapslices}}\n",
       "\n",
       "\\section{Examples}\n",
       "\\begin{verbatim}\n",
       "julia> map(x -> x * 2, [1, 2, 3])\n",
       "3-element Array{Int64,1}:\n",
       " 2\n",
       " 4\n",
       " 6\n",
       "\n",
       "julia> map(+, [1, 2, 3], [10, 20, 30])\n",
       "3-element Array{Int64,1}:\n",
       " 11\n",
       " 22\n",
       " 33\n",
       "\\end{verbatim}\n",
       "\\rule{\\textwidth}{1pt}\n",
       "\\begin{verbatim}\n",
       "map(f, s::Signal...) -> signal\n",
       "\\end{verbatim}\n",
       "Transform signal \\texttt{s} by applying \\texttt{f} to each element. For multiple signal arguments, apply \\texttt{f} elementwise.\n",
       "\n"
      ],
      "text/markdown": [
       "```\n",
       "map(f, c...) -> collection\n",
       "```\n",
       "\n",
       "Transform collection `c` by applying `f` to each element. For multiple collection arguments, apply `f` elementwise.\n",
       "\n",
       "See also: [`mapslices`](@ref)\n",
       "\n",
       "# Examples\n",
       "\n",
       "```jldoctest\n",
       "julia> map(x -> x * 2, [1, 2, 3])\n",
       "3-element Array{Int64,1}:\n",
       " 2\n",
       " 4\n",
       " 6\n",
       "\n",
       "julia> map(+, [1, 2, 3], [10, 20, 30])\n",
       "3-element Array{Int64,1}:\n",
       " 11\n",
       " 22\n",
       " 33\n",
       "```\n",
       "\n",
       "---\n",
       "\n",
       "```\n",
       "map(f, s::Signal...) -> signal\n",
       "```\n",
       "\n",
       "Transform signal `s` by applying `f` to each element. For multiple signal arguments, apply `f` elementwise.\n"
      ],
      "text/plain": [
       "\u001b[36m  map(f, c...) -> collection\u001b[39m\n",
       "\n",
       "  Transform collection \u001b[36mc\u001b[39m by applying \u001b[36mf\u001b[39m to each element. For multiple\n",
       "  collection arguments, apply \u001b[36mf\u001b[39m elementwise.\n",
       "\n",
       "  See also: \u001b[36mmapslices\u001b[39m\n",
       "\n",
       "\u001b[1m  Examples\u001b[22m\n",
       "\u001b[1m  ≡≡≡≡≡≡≡≡≡≡\u001b[22m\n",
       "\n",
       "\u001b[36m  julia> map(x -> x * 2, [1, 2, 3])\u001b[39m\n",
       "\u001b[36m  3-element Array{Int64,1}:\u001b[39m\n",
       "\u001b[36m   2\u001b[39m\n",
       "\u001b[36m   4\u001b[39m\n",
       "\u001b[36m   6\u001b[39m\n",
       "\u001b[36m  \u001b[39m\n",
       "\u001b[36m  julia> map(+, [1, 2, 3], [10, 20, 30])\u001b[39m\n",
       "\u001b[36m  3-element Array{Int64,1}:\u001b[39m\n",
       "\u001b[36m   11\u001b[39m\n",
       "\u001b[36m   22\u001b[39m\n",
       "\u001b[36m   33\u001b[39m\n",
       "\n",
       "  ────────────────────────────────────────────────────────────────────────────\n",
       "\n",
       "\u001b[36m  map(f, s::Signal...) -> signal\u001b[39m\n",
       "\n",
       "  Transform signal \u001b[36ms\u001b[39m by applying \u001b[36mf\u001b[39m to each element. For multiple signal\n",
       "  arguments, apply \u001b[36mf\u001b[39m elementwise."
      ]
     },
     "execution_count": 20,
     "metadata": {},
     "output_type": "execute_result"
    }
   ],
   "source": [
    "?map"
   ]
  },
  {
   "cell_type": "code",
   "execution_count": 25,
   "metadata": {},
   "outputs": [
    {
     "name": "stdout",
     "output_type": "stream",
     "text": [
      "\u001b[32m\u001b[1m Resolving\u001b[22m\u001b[39m package versions...\n",
      "\u001b[32m\u001b[1m  Updating\u001b[22m\u001b[39m `~/.julia/environments/v1.1/Project.toml`\n",
      " \u001b[90m [c5f51814]\u001b[39m\u001b[92m + CUDAdrv v3.0.1\u001b[39m\n",
      "\u001b[32m\u001b[1m  Updating\u001b[22m\u001b[39m `~/.julia/environments/v1.1/Manifest.toml`\n",
      "\u001b[90m [no changes]\u001b[39m\n"
     ]
    }
   ],
   "source": [
    "Pkg.add(\"CUDAdrv\")"
   ]
  },
  {
   "cell_type": "code",
   "execution_count": 28,
   "metadata": {},
   "outputs": [
    {
     "name": "stdout",
     "output_type": "stream",
     "text": [
      "3.261732e12\n"
     ]
    }
   ],
   "source": [
    "using CUDAdrv, CUDAnative\n",
    "using CuArrays\n",
    "\n",
    "using Test\n",
    "\n",
    "\"Dummy kernel doing 100 FMAs.\"\n",
    "function kernel_100fma(a, b, c, out)\n",
    "    i = (blockIdx().x-1) * blockDim().x + threadIdx().x\n",
    "    @inbounds a_val = a[i]\n",
    "    @inbounds b_val = b[i]\n",
    "    @inbounds c_val = c[i]\n",
    "\n",
    "    for j in 1:33\n",
    "        a_val = CUDAnative.fma(a_val, b_val, c_val)\n",
    "        b_val = CUDAnative.fma(a_val, b_val, c_val)\n",
    "        c_val = CUDAnative.fma(a_val, b_val, c_val)\n",
    "    end\n",
    "\n",
    "    @inbounds out[i] = CUDAnative.fma(a_val, b_val, c_val)\n",
    "\n",
    "    return\n",
    "end\n",
    "\n",
    "function peakflops(n::Integer=5000, dev::CuDevice=CuDevice(0))\n",
    "    ctx = CuContext(dev)\n",
    "\n",
    "    dims = (n, n)\n",
    "    a = round.(rand(Float32, dims) * 100)\n",
    "    b = round.(rand(Float32, dims) * 100)\n",
    "    c = round.(rand(Float32, dims) * 100)\n",
    "    out = similar(a)\n",
    "\n",
    "    d_a = CuArray(a)\n",
    "    d_b = CuArray(b)\n",
    "    d_c = CuArray(c)\n",
    "    d_out = CuArray(out)\n",
    "\n",
    "    len = prod(dims)\n",
    "    threads = min(len, 1024)\n",
    "    blocks = len ÷ threads\n",
    "\n",
    "    # warm-up\n",
    "    @cuda kernel_100fma(d_a, d_b, d_c, d_out)\n",
    "    synchronize(ctx)\n",
    "\n",
    "    secs = CUDAdrv.@elapsed begin\n",
    "        @cuda blocks=blocks threads=threads kernel_100fma(d_a, d_b, d_c, d_out)\n",
    "    end\n",
    "    flopcount = 200*len\n",
    "    flops = flopcount / secs\n",
    "\n",
    "    destroy!(ctx)\n",
    "    return flops\n",
    "end\n",
    "\n",
    "println(peakflops())\n"
   ]
  },
  {
   "cell_type": "code",
   "execution_count": null,
   "metadata": {},
   "outputs": [],
   "source": []
  }
 ],
 "metadata": {
  "kernelspec": {
   "display_name": "Julia 1.1.1",
   "language": "julia",
   "name": "julia-1.1"
  },
  "language_info": {
   "file_extension": ".jl",
   "mimetype": "application/julia",
   "name": "julia",
   "version": "1.1.1"
  }
 },
 "nbformat": 4,
 "nbformat_minor": 2
}
