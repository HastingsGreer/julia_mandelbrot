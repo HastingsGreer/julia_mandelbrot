{
 "cells": [
  {
   "cell_type": "code",
   "execution_count": 1,
   "metadata": {},
   "outputs": [
    {
     "data": {
      "text/plain": [
       "mandelbrot (generic function with 1 method)"
      ]
     },
     "execution_count": 1,
     "metadata": {},
     "output_type": "execute_result"
    }
   ],
   "source": [
    "using CuArrays\n",
    "\n",
    "res = 512\n",
    "\n",
    "function mandelbrot_pixel(c::Complex{Float32})\n",
    "    count = 0\n",
    "    z::Complex{Float32} = 0\n",
    "    while count < 80000 && abs(z) < 4\n",
    "        count = count + 1\n",
    "        z = z^2 + c\n",
    "    end\n",
    "    return count\n",
    "end\n",
    "\n",
    "function mandelbrot(center, radius)\n",
    "    println(\"called\")\n",
    "    c = range(-radius, radius, length=res)\n",
    "    c = c .+ im .* c' .+ center\n",
    "    \n",
    "    \n",
    "    c = Complex{Float32}.(c)\n",
    "    \n",
    "    \n",
    "    c = cu(c)\n",
    "    return collect(mandelbrot_pixel.(c) .% 400 ./ 400)\n",
    "end\n"
   ]
  },
  {
   "cell_type": "code",
   "execution_count": 5,
   "metadata": {},
   "outputs": [
    {
     "name": "stdout",
     "output_type": "stream",
     "text": [
      "called\n"
     ]
    },
    {
     "data": {
      "text/plain": [
       "Gtk.GtkWindowLeaf(name=\"\", parent, width-request=-1, height-request=-1, visible=TRUE, sensitive=TRUE, app-paintable=FALSE, can-focus=FALSE, has-focus=FALSE, is-focus=FALSE, can-default=FALSE, has-default=FALSE, receives-default=FALSE, composite-child=FALSE, style, events=0, no-show-all=FALSE, has-tooltip=FALSE, tooltip-markup=NULL, tooltip-text=NULL, window, opacity=1.000000, double-buffered, halign=GTK_ALIGN_FILL, valign=GTK_ALIGN_FILL, margin-left, margin-right, margin-start=0, margin-end=0, margin-top=0, margin-bottom=0, margin=0, hexpand=FALSE, vexpand=FALSE, hexpand-set=FALSE, vexpand-set=FALSE, expand=FALSE, scale-factor=1, border-width=0, resize-mode, child, type=GTK_WINDOW_TOPLEVEL, title=NULL, role=NULL, resizable=TRUE, modal=FALSE, window-position=GTK_WIN_POS_NONE, default-width=-1, default-height=-1, destroy-with-parent=FALSE, hide-titlebar-when-maximized=FALSE, icon, icon-name=NULL, screen, type-hint=GDK_WINDOW_TYPE_HINT_NORMAL, skip-taskbar-hint=FALSE, skip-pager-hint=FALSE, urgency-hint=FALSE, accept-focus=TRUE, focus-on-map=TRUE, decorated=TRUE, deletable=TRUE, gravity=GDK_GRAVITY_NORTH_WEST, transient-for, attached-to, has-resize-grip, resize-grip-visible, application, is-active=FALSE, has-toplevel-focus=FALSE, startup-id, mnemonics-visible=FALSE, focus-visible=FALSE, is-maximized=FALSE)"
      ]
     },
     "execution_count": 5,
     "metadata": {},
     "output_type": "execute_result"
    },
    {
     "name": "stdout",
     "output_type": "stream",
     "text": [
      "called\n",
      "called\n",
      "called\n",
      "called\n",
      "called\n",
      "called\n",
      "called\n",
      "called\n"
     ]
    }
   ],
   "source": [
    "using TestImages, GtkReactive, Gtk.ShortNames\n",
    "\n",
    "\n",
    "centersig = Signal(0. + 0.0im)\n",
    "\n",
    "radiussig = Signal(2.)\n",
    "\n",
    "bothsig = map(centersig, radiussig) do center, radius\n",
    "    center, radius\n",
    "end\n",
    "\n",
    "imgsig = map(droprepeats(sampleon(every(0.05), bothsig))) do both\n",
    "    center, radius = both\n",
    "    mandelbrot(center, radius)\n",
    "end\n",
    "\n",
    "c = canvas(UserUnit, 600, 600)\n",
    "win = Window(c)\n",
    "\n",
    "redraw = draw(c, imgsig) do cnvs, image\n",
    "    copy!(cnvs, image)\n",
    "end\n",
    "\n",
    "clicksig = map(c.mouse.buttonpress) do btn\n",
    "    offset = value(radiussig) * (\n",
    "        ((btn.position.x - 256) / 256) * im + ((btn.position.y - 256) / 256)\n",
    "    )\n",
    "    push!(centersig, value(centersig) + offset)\n",
    "    push!(radiussig, value(radiussig) / 2)\n",
    "end\n",
    "\n",
    "push!(centersig, 0)\n",
    "push!(radiussig, 2)\n",
    "\n",
    "Gtk.showall(win)"
   ]
  },
  {
   "cell_type": "code",
   "execution_count": 12,
   "metadata": {},
   "outputs": [
    {
     "data": {
      "text/plain": [
       "-2.006666666666667 - 2.006666666666667im"
      ]
     },
     "execution_count": 12,
     "metadata": {},
     "output_type": "execute_result"
    }
   ],
   "source": [
    "value(centersig)"
   ]
  },
  {
   "cell_type": "code",
   "execution_count": 8,
   "metadata": {},
   "outputs": [
    {
     "data": {
      "text/plain": [
       "Gtk.GtkWindowLeaf(name=\"\", parent, width-request=-1, height-request=-1, visible=TRUE, sensitive=TRUE, app-paintable=FALSE, can-focus=FALSE, has-focus=FALSE, is-focus=FALSE, can-default=FALSE, has-default=FALSE, receives-default=FALSE, composite-child=FALSE, style, events=0, no-show-all=FALSE, has-tooltip=FALSE, tooltip-markup=NULL, tooltip-text=NULL, window, opacity=1.000000, double-buffered, halign=GTK_ALIGN_FILL, valign=GTK_ALIGN_FILL, margin-left, margin-right, margin-start=0, margin-end=0, margin-top=0, margin-bottom=0, margin=0, hexpand=FALSE, vexpand=FALSE, hexpand-set=FALSE, vexpand-set=FALSE, expand=FALSE, scale-factor=1, border-width=0, resize-mode, child, type=GTK_WINDOW_TOPLEVEL, title=\"hello\", role=NULL, resizable=TRUE, modal=FALSE, window-position=GTK_WIN_POS_NONE, default-width=600, default-height=600, destroy-with-parent=FALSE, hide-titlebar-when-maximized=FALSE, icon, icon-name=NULL, screen, type-hint=GDK_WINDOW_TYPE_HINT_NORMAL, skip-taskbar-hint=FALSE, skip-pager-hint=FALSE, urgency-hint=FALSE, accept-focus=TRUE, focus-on-map=TRUE, decorated=TRUE, deletable=TRUE, gravity=GDK_GRAVITY_NORTH_WEST, transient-for, attached-to, has-resize-grip, resize-grip-visible, application, is-active=FALSE, has-toplevel-focus=FALSE, startup-id, mnemonics-visible=FALSE, focus-visible=FALSE, is-maximized=FALSE)"
      ]
     },
     "execution_count": 8,
     "metadata": {},
     "output_type": "execute_result"
    }
   ],
   "source": [
    "g = Gtk.GtkWindow(\"hello\", 600, 600)"
   ]
  },
  {
   "cell_type": "code",
   "execution_count": 18,
   "metadata": {},
   "outputs": [
    {
     "data": {
      "text/plain": [
       "(1, 2)"
      ]
     },
     "execution_count": 18,
     "metadata": {},
     "output_type": "execute_result"
    }
   ],
   "source": [
    "a, b = 1, 2"
   ]
  },
  {
   "cell_type": "code",
   "execution_count": 19,
   "metadata": {},
   "outputs": [
    {
     "data": {
      "text/plain": [
       "1"
      ]
     },
     "execution_count": 19,
     "metadata": {},
     "output_type": "execute_result"
    }
   ],
   "source": [
    "a\n"
   ]
  },
  {
   "cell_type": "code",
   "execution_count": 20,
   "metadata": {},
   "outputs": [
    {
     "data": {
      "text/plain": [
       "2"
      ]
     },
     "execution_count": 20,
     "metadata": {},
     "output_type": "execute_result"
    }
   ],
   "source": [
    "b"
   ]
  },
  {
   "cell_type": "code",
   "execution_count": 5,
   "metadata": {},
   "outputs": [
    {
     "name": "stdout",
     "output_type": "stream",
     "text": [
      "search: \u001b[0m\u001b[1mc\u001b[22m\u001b[0m\u001b[1mu\u001b[22m \u001b[0m\u001b[1mc\u001b[22m\u001b[0m\u001b[1mu\u001b[22mmsum \u001b[0m\u001b[1mC\u001b[22m\u001b[0m\u001b[1mu\u001b[22mint \u001b[0m\u001b[1mc\u001b[22m\u001b[0m\u001b[1mu\u001b[22mones \u001b[0m\u001b[1mc\u001b[22m\u001b[0m\u001b[1mu\u001b[22mfill \u001b[0m\u001b[1mc\u001b[22m\u001b[0m\u001b[1mu\u001b[22mmsum! \u001b[0m\u001b[1mc\u001b[22m\u001b[0m\u001b[1mu\u001b[22mmprod \u001b[0m\u001b[1mC\u001b[22m\u001b[0m\u001b[1mu\u001b[22mlong \u001b[0m\u001b[1mC\u001b[22m\u001b[0m\u001b[1mu\u001b[22mchar \u001b[0m\u001b[1mc\u001b[22m\u001b[0m\u001b[1mu\u001b[22mzeros\n",
      "\n"
     ]
    },
    {
     "data": {
      "text/latex": [
       "No documentation found.\n",
       "\n",
       "\\texttt{CuArrays.cu} is a \\texttt{Function}.\n",
       "\n",
       "\\begin{verbatim}\n",
       "# 1 method for generic function \"cu\":\n",
       "[1] cu(xs) in CuArrays at /home/hastings/.julia/packages/CuArrays/PwSdF/src/array.jl:214\n",
       "\\end{verbatim}\n"
      ],
      "text/markdown": [
       "No documentation found.\n",
       "\n",
       "`CuArrays.cu` is a `Function`.\n",
       "\n",
       "```\n",
       "# 1 method for generic function \"cu\":\n",
       "[1] cu(xs) in CuArrays at /home/hastings/.julia/packages/CuArrays/PwSdF/src/array.jl:214\n",
       "```\n"
      ],
      "text/plain": [
       "  No documentation found.\n",
       "\n",
       "  \u001b[36mCuArrays.cu\u001b[39m is a \u001b[36mFunction\u001b[39m.\n",
       "\n",
       "\u001b[36m  # 1 method for generic function \"cu\":\u001b[39m\n",
       "\u001b[36m  [1] cu(xs) in CuArrays at /home/hastings/.julia/packages/CuArrays/PwSdF/src/array.jl:214\u001b[39m"
      ]
     },
     "execution_count": 5,
     "metadata": {},
     "output_type": "execute_result"
    }
   ],
   "source": [
    "?cu"
   ]
  },
  {
   "cell_type": "code",
   "execution_count": null,
   "metadata": {},
   "outputs": [],
   "source": []
  }
 ],
 "metadata": {
  "kernelspec": {
   "display_name": "Julia 1.1.1",
   "language": "julia",
   "name": "julia-1.1"
  },
  "language_info": {
   "file_extension": ".jl",
   "mimetype": "application/julia",
   "name": "julia",
   "version": "1.1.1"
  }
 },
 "nbformat": 4,
 "nbformat_minor": 2
}
